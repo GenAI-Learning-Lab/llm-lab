{
  "cells": [
    {
      "cell_type": "markdown",
      "id": "992c4695-ec4f-428d-bd05-fb3b5fbd70f4",
      "metadata": {
        "id": "992c4695-ec4f-428d-bd05-fb3b5fbd70f4"
      },
      "source": [
        "#AI Research Assistant Built with LangGraph\n",
        "\n",
        "### A simple lightweight, modular agent that leverages the ReAct framework to retrieve real-time web search results. Powered by LangGraph, this assistant demonstrates how to build custom, stateful AI workflows using open-source tools."
      ]
    },
    {
      "cell_type": "markdown",
      "id": "7be3889f-3c17-4fa1-bd2b-84114a2c7247",
      "metadata": {
        "id": "7be3889f-3c17-4fa1-bd2b-84114a2c7247"
      },
      "source": [
        "## Setup\n",
        "\n",
        "First let's install the required packages and set our API keys"
      ]
    },
    {
      "cell_type": "code",
      "execution_count": 1,
      "id": "a213e11a-5c62-4ddb-a707-490d91add383",
      "metadata": {
        "id": "a213e11a-5c62-4ddb-a707-490d91add383"
      },
      "outputs": [],
      "source": [
        "%%capture --no-stderr\n",
        "%pip install -U langgraph langchain-groq langchain-openai tavily-python langchain-community arxiv\n"
      ]
    },
    {
      "cell_type": "code",
      "source": [
        "import os\n",
        "from google.colab import userdata\n",
        "# Import Markdown from IPython.display\n",
        "from IPython.display import Markdown\n",
        "\n",
        "os.environ['GROQ_API_KEY'] = userdata.get('GROQ_API_KEY')\n",
        "os.environ['OPENAI_API_KEY'] = userdata.get('OPENAI_API_KEY')\n",
        "os.environ['TAVILY_API_KEY'] = userdata.get('TAVILY_API_KEY')\n",
        "os.environ['LANGSMITH_API_KEY'] = userdata.get('LANGSMITH_API_KEY')\n",
        "\n",
        "print(\"API keys have been set!\")\n",
        "\n",
        "os.environ[\"LANGCHAIN_TRACING_V2\"] = \"true\"\n",
        "os.environ[\"LANGCHAIN_PROJECT\"] = \"simple-research-assistant\""
      ],
      "metadata": {
        "colab": {
          "base_uri": "https://localhost:8080/"
        },
        "id": "TBPT4vJZ1NGC",
        "outputId": "e5fff1ad-ee0e-400d-a2ec-ba44f905b4d6"
      },
      "id": "TBPT4vJZ1NGC",
      "execution_count": 2,
      "outputs": [
        {
          "output_type": "stream",
          "name": "stdout",
          "text": [
            "API keys have been set!\n"
          ]
        }
      ]
    },
    {
      "cell_type": "markdown",
      "id": "03c0f089-070c-4cd4-87e0-6c51f2477b82",
      "metadata": {
        "id": "03c0f089-070c-4cd4-87e0-6c51f2477b82"
      },
      "source": [
        "## Code"
      ]
    },
    {
      "cell_type": "code",
      "execution_count": 3,
      "id": "7a154152-973e-4b5d-aa13-48c617744a4c",
      "metadata": {
        "id": "7a154152-973e-4b5d-aa13-48c617744a4c"
      },
      "outputs": [],
      "source": [
        "# First we initialize the model we want to use.\n",
        "from langchain_groq import ChatGroq\n",
        "from langchain_openai import ChatOpenAI\n",
        "from langchain_community.tools.tavily_search import TavilySearchResults\n",
        "from langchain_core.messages import HumanMessage\n",
        "\n",
        "#model = ChatOpenAI(model=\"gpt-4o-mini\", temperature=0)\n",
        "\n",
        "model = ChatGroq(model=\"qwen-2.5-32b\")\n",
        "# key models: qwen-2.5-32b, deepseek-r1-distill-llama-70b, llama-3.3-70b-versatile\n",
        "\n",
        "\n",
        "# For this tutorial we will use custom tool that returns pre-defined values for weather in two cities (NYC & SF)\n",
        "\n",
        "from typing import Literal\n",
        "\n",
        "from langchain_core.tools import tool\n",
        "from langchain.agents import load_tools\n",
        "\n",
        "\n",
        "@tool\n",
        "def get_weather(city: Literal[\"nyc\", \"sf\"]):\n",
        "    \"\"\"Use this to get weather information.\"\"\"\n",
        "    if city == \"nyc\":\n",
        "        return \"It might be cloudy in nyc\"\n",
        "    elif city == \"sf\":\n",
        "        return \"It's always sunny in sf\"\n",
        "    else:\n",
        "        raise AssertionError(\"Unknown city\")\n",
        "\n",
        "# Define the Tavily search tool\n",
        "search_tool = TavilySearchResults(max_results=3)\n",
        "\n",
        "# Load the ArXiv search tool\n",
        "arxiv_tool = load_tools([\"arxiv\"])[0]\n",
        "\n",
        "# List all tools including the custom get_weather function\n",
        "tools = [get_weather, search_tool, arxiv_tool]\n",
        "\n",
        "\n",
        "# Define the graph\n",
        "\n",
        "from langgraph.prebuilt import create_react_agent\n",
        "\n",
        "graph = create_react_agent(model, tools=tools)"
      ]
    },
    {
      "cell_type": "markdown",
      "id": "00407425-506d-4ffd-9c86-987921d8c844",
      "metadata": {
        "id": "00407425-506d-4ffd-9c86-987921d8c844"
      },
      "source": [
        "## Usage\n",
        "\n",
        "First, let's visualize the graph we just created"
      ]
    },
    {
      "cell_type": "code",
      "execution_count": 4,
      "id": "fa16de4c-aac0-4ff4-ab69-60d399f75423",
      "metadata": {
        "colab": {
          "base_uri": "https://localhost:8080/",
          "height": 266
        },
        "id": "fa16de4c-aac0-4ff4-ab69-60d399f75423",
        "outputId": "aa806395-cef2-427f-c4a7-5e7d9344251f"
      },
      "outputs": [
        {
          "output_type": "display_data",
          "data": {
            "image/png": "[encoded data removed]",
            "text/plain": [
              "<IPython.core.display.Image object>"
            ]
          },
          "metadata": {}
        }
      ],
      "source": [
        "from IPython.display import Image, display\n",
        "\n",
        "display(Image(graph.get_graph().draw_mermaid_png()))"
      ]
    },
    {
      "cell_type": "code",
      "execution_count": 5,
      "id": "16636975-5f2d-4dc7-ab8e-d0bea0830a28",
      "metadata": {
        "id": "16636975-5f2d-4dc7-ab8e-d0bea0830a28"
      },
      "outputs": [],
      "source": [
        "# Beautified print_stream function\n",
        "def print_stream(stream):\n",
        "    \"\"\"\n",
        "    Beautifies the output of the agent's response stream in a Jupyter notebook.\n",
        "    Uses Markdown for formatting and adds some styling.\n",
        "    \"\"\"\n",
        "    full_response = \"\"\n",
        "    for s in stream:\n",
        "        message = s[\"messages\"][-1]\n",
        "        if isinstance(message, tuple):\n",
        "            # Handle tuple messages (e.g., tool calls)\n",
        "            content = f\"**Tool Call**: {message[0]}\\n\\nDetails: {message[1]}\"\n",
        "            full_response += content + \"\\n\\n\"\n",
        "        else:\n",
        "            # Handle regular messages (e.g., HumanMessage, AIMessage)\n",
        "            role = message.type.capitalize()\n",
        "            content = message.content\n",
        "            if role == \"Human\":\n",
        "                full_response += f\"### 👤 {role}\\n{content}\\n\\n\"\n",
        "            elif role == \"Ai\":\n",
        "                full_response += f\"### 🤖 {role} Response\\n{content}\\n\\n\"\n",
        "            else:\n",
        "                full_response += f\"### {role}\\n{content}\\n\\n\"\n",
        "\n",
        "    # Display the full response as Markdown\n",
        "    display(Markdown(full_response))"
      ]
    },
    {
      "cell_type": "markdown",
      "id": "9d187d6b-0fb6-4860-8771-160c3cf403c6",
      "metadata": {
        "id": "9d187d6b-0fb6-4860-8771-160c3cf403c6"
      },
      "source": [
        "Let's run the app with an input that needs a tool call"
      ]
    },
    {
      "cell_type": "code",
      "execution_count": 6,
      "id": "9ffff6c3-a4f5-47c9-b51d-97caaee85cd6",
      "metadata": {
        "colab": {
          "base_uri": "https://localhost:8080/",
          "height": 238
        },
        "id": "9ffff6c3-a4f5-47c9-b51d-97caaee85cd6",
        "outputId": "921d5cec-9d79-47c7-ac86-4c26a5db8d55"
      },
      "outputs": [
        {
          "output_type": "display_data",
          "data": {
            "text/plain": [
              "<IPython.core.display.Markdown object>"
            ],
            "text/markdown": "### 👤 Human\nwhat is the weather in sf\n\n### 🤖 Ai Response\n\n\n### Tool\nIt's always sunny in sf\n\n### 🤖 Ai Response\nThe weather in San Francisco (sf) is reported to be sunny.\n\n"
          },
          "metadata": {}
        }
      ],
      "source": [
        "inputs = {\"messages\": [(\"user\", \"what is the weather in sf\")]}\n",
        "print_stream(graph.stream(inputs, stream_mode=\"values\", config={\"recursion_limit\": 10}))"
      ]
    },
    {
      "cell_type": "markdown",
      "id": "838a043f-90ad-4e69-9d1d-6e22db2c346c",
      "metadata": {
        "id": "838a043f-90ad-4e69-9d1d-6e22db2c346c"
      },
      "source": [
        "Now let's try a question that doesn't need tools"
      ]
    },
    {
      "cell_type": "code",
      "source": [
        "from datetime import date\n",
        "from langchain.schema import SystemMessage, HumanMessage\n",
        "\n",
        "today = date.today().strftime(\"%B %d, %Y\")  # Example: April 05, 2025\n",
        "\n",
        "query = {\n",
        "    \"messages\": [\n",
        "        SystemMessage(\n",
        "            content=\"You are an AI research assistant with expertise in summarizing latest news on provided topic.\"\n",
        "        ),\n",
        "        HumanMessage(\n",
        "            content=f\"\"\"\n",
        "Provide a concise summary of the latest advancements in Artificial Intelligence as of {today}.\n",
        "\n",
        "Focus on major developments in:\n",
        "- Foundation Models (like OpenAI, Anthropic, Gemini)\n",
        "- Agentic Workflows or AI Agents\n",
        "- Open-source LLMs\n",
        "- Applied AI in industries (healthcare, finance, education, etc.)\n",
        "\n",
        "Please include references to original sources (links or citation details) for each key point or discovery you mention.\n",
        "\"\"\"\n",
        "        )\n",
        "    ]\n",
        "}\n",
        "\n",
        "print(query)"
      ],
      "metadata": {
        "colab": {
          "base_uri": "https://localhost:8080/"
        },
        "id": "WUswc_sAuyIp",
        "outputId": "e57683f8-a4c1-431b-ff2f-c6c39401b61b"
      },
      "id": "WUswc_sAuyIp",
      "execution_count": 7,
      "outputs": [
        {
          "output_type": "stream",
          "name": "stdout",
          "text": [
            "{'messages': [SystemMessage(content='You are an AI research assistant with expertise in summarizing latest news on provided topic.', additional_kwargs={}, response_metadata={}), HumanMessage(content='\\nProvide a concise summary of the latest advancements in Artificial Intelligence as of April 05, 2025.\\n\\nFocus on major developments in:\\n- Foundation Models (like OpenAI, Anthropic, Gemini)\\n- Agentic Workflows or AI Agents\\n- Open-source LLMs\\n- Applied AI in industries (healthcare, finance, education, etc.)\\n\\nPlease include references to original sources (links or citation details) for each key point or discovery you mention.\\n', additional_kwargs={}, response_metadata={})]}\n"
          ]
        }
      ]
    },
    {
      "cell_type": "code",
      "execution_count": 8,
      "id": "187479f9-32fa-4611-9487-cf816ba2e147",
      "metadata": {
        "colab": {
          "base_uri": "https://localhost:8080/",
          "height": 831
        },
        "id": "187479f9-32fa-4611-9487-cf816ba2e147",
        "outputId": "d6ddb386-8a6d-4d3f-c999-8cd6a877d404"
      },
      "outputs": [
        {
          "output_type": "display_data",
          "data": {
            "text/plain": [
              "<IPython.core.display.Markdown object>"
            ],
            "text/markdown": "### 👤 Human\n\nProvide a concise summary of the latest advancements in Artificial Intelligence as of April 05, 2025.\n\nFocus on major developments in:\n- Foundation Models (like OpenAI, Anthropic, Gemini)\n- Agentic Workflows or AI Agents\n- Open-source LLMs\n- Applied AI in industries (healthcare, finance, education, etc.)\n\nPlease include references to original sources (links or citation details) for each key point or discovery you mention.\n\n\n### 🤖 Ai Response\n\n\n### Tool\n[{\"title\": \"Top AI Trends 2025: Key Developments to Watch - Appinventiv\", \"url\": \"https://appinventiv.com/blog/ai-trends/\", \"content\": \"A. The current state of AI includes advancements in AutoML for automating machine learning processes, the rise of Multi-modal AI combining text, image, and speech processing, Explainable AI for transparency in decision-making, enhanced Computer Vision capabilities, and the evolution of Neural Networks for more efficient learning. Additionally, Digital Twins are gaining prominence for simulating real-world objects digitally, reflecting the diverse applications transforming industries globally. [...] One of the latest artificial intelligence trends is Quantum AI, which improves AI algorithms by utilizing quantum computing ideas. This method could pave the way for new developments in areas like complex system optimization, material science, and encryption by solving complicated problems far more quickly than traditional computers. [...] One of the most notable new developments in the AI field is the use of autonomous systems to make decisions for users. These AI agents are made to take on jobs proactively, enhancing output and decision-making across a range of sectors, including banking and healthcare. Agentic AI can lower the cognitive burden on human operators and streamline workflows by acting autonomously and anticipating user needs.\", \"score\": 0.8974172}, {\"title\": \"Artificial Intelligence Breakthroughs: Key Developments to Expect in ...\", \"url\": \"https://www.ironhack.com/us/blog/artificial-intelligence-breakthroughs-a-look-ahead-to-2024\", \"content\": \"The Future of Machine Learning\\nKey AI Breakthroughs to Watch in 2025\\nAs we approach 2025, AI continues to transform industries at an unprecedented pace. Let’s explore some of the latest advancements shaping our world:\\n1. Deep Learning Advancements\", \"score\": 0.8124067}, {\"title\": \"Latest AI Breakthroughs and News: March 2025 - Crescendo AI\", \"url\": \"https://www.crescendo.ai/news/latest-ai-news-and-updates\", \"content\": \"Source: New York Post\\nOpenAI's \\\"12 Days of OpenAI\\\" Event Unveils Major AI Advancements\", \"score\": 0.77179235}]\n\n### 🤖 Ai Response\nBased on the latest developments as of April 05, 2025, here are key advancements in Artificial Intelligence:\n\n1. **Foundation Models**: OpenAI has been a prominent figure in AI advancements, as noted in an event titled \"12 Days of OpenAI\" where they unveiled significant AI updates. While specific models or features were not detailed, this event typically showcases the latest in AI technologies and innovations (Source: [Crescendo AI](https://www.crescendo.ai/news/latest-ai-news-and-updates)).\n\n2. **Agentic Workflows or AI Agents**: Autonomous AI systems, or AI agents, are becoming increasingly capable of making decisions for users and acting on their behalf across various sectors such as banking and healthcare. These AI agents can anticipate user needs, enhancing output and decision-making while reducing the cognitive load on human operators (Source: [Appinventiv Blog](https://appinventiv.com/blog/ai-trends/)).\n\n3. **Open-source LLMs (Large Language Models)**: Although specific open-source LLMs were not detailed in the search results, the trend towards more open-source models continues, enabling broader collaboration and innovation in AI (Source: [Ironhack Blog](https://www.ironhack.com/us/blog/artificial-intelligence-breakthroughs-a-look-ahead-to-2024)).\n\n4. **Applied AI in Industries**: AI is making strides in several industries, including healthcare, finance, and education. For instance, AI-driven solutions are enhancing decision-making in healthcare through predictive analytics and personalized treatment plans. In finance, AI is improving fraud detection and investment strategies. Education is also seeing a transformation with AI-powered personalized learning experiences (Source: [Appinventiv Blog](https://appinventiv.com/blog/ai-trends/)).\n\nFor detailed information and the most recent updates, refer to the sources provided.\n\n"
          },
          "metadata": {}
        }
      ],
      "source": [
        "# Run the agent with a sample query\n",
        "response_stream = graph.stream(query, stream_mode=\"values\",config={\"recursion_limit\": 10})\n",
        "print_stream(response_stream)"
      ]
    },
    {
      "cell_type": "code",
      "source": [
        "# query = {\n",
        "#     \"messages\": [\n",
        "#         SystemMessage(\n",
        "#             content=(\n",
        "#                 \"You are an AI research assistant with expertise in summarizing AI advancements. \"\n",
        "#                 \"You have access to the Tavily search tool for retrieving up-to-date information from the web, \"\n",
        "#                 \"and the arXiv tool for accessing academic research papers. Utilize these tools to provide accurate and current summaries.\"\n",
        "#             )\n",
        "#         ),\n",
        "#         HumanMessage(\n",
        "#             content=f\"\"\"\n",
        "# As of {today}, provide a concise summary of the latest advancements in Artificial Intelligence.\n",
        "\n",
        "# Focus on major developments in:\n",
        "# - Foundation Models (e.g., OpenAI, Anthropic, Gemini)\n",
        "# - Agentic Workflows or AI Agents\n",
        "# - Open-source Large Language Models (LLMs)\n",
        "# - Applied AI in industries such as healthcare, finance, and education\n",
        "\n",
        "# For each key point or discovery mentioned, retrieve and reference relevant sources using the Tavily search tool and arXiv tool, including their titles, publication dates, and links or citation details.\n",
        "# \"\"\"\n",
        "#         )\n",
        "#     ]\n",
        "# }\n",
        "\n",
        "# print(query)"
      ],
      "metadata": {
        "id": "dB4DPD390T9H"
      },
      "id": "dB4DPD390T9H",
      "execution_count": 9,
      "outputs": []
    }
  ],
  "metadata": {
    "colab": {
      "provenance": []
    },
    "kernelspec": {
      "display_name": "aienv",
      "language": "python",
      "name": "python3"
    },
    "language_info": {
      "codemirror_mode": {
        "name": "ipython",
        "version": 3
      },
      "file_extension": ".py",
      "mimetype": "text/x-python",
      "name": "python",
      "nbconvert_exporter": "python",
      "pygments_lexer": "ipython3",
      "version": "3.12.2"
    }
  },
  "nbformat": 4,
  "nbformat_minor": 5
}